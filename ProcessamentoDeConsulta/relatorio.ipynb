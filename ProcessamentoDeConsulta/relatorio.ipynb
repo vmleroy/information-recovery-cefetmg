{
 "cells": [
  {
   "attachments": {},
   "cell_type": "markdown",
   "metadata": {},
   "source": [
    "# Relatorio processamento de consulta\n",
    "\n",
    "* Arthur Severo\n",
    "* Victor Le Roy"
   ]
  },
  {
   "attachments": {},
   "cell_type": "markdown",
   "metadata": {},
   "source": [
    "Primeiro passo é gerar o arquivo de indexação pre-computado."
   ]
  },
  {
   "cell_type": "code",
   "execution_count": 2,
   "metadata": {},
   "outputs": [
    {
     "name": "stdout",
     "output_type": "stream",
     "text": [
      "Indice lido com sucesso\n",
      "Precomputando valores atraves do indice...\n",
      "Precomputou valores done in 17.997515\n",
      "Cleaner instanciado com sucesso\n",
      "\n",
      "===========================================\n",
      "  Saindo...\n"
     ]
    }
   ],
   "source": [
    "from query.processing import QueryRunner\n",
    "\n",
    "QueryRunner.main()"
   ]
  },
  {
   "attachments": {},
   "cell_type": "markdown",
   "metadata": {},
   "source": [
    "```Questao 1.```\n",
    "\n",
    "*a. Quais são os 10 termos com maior e menor IDF da coleção?*\n",
    "\n",
    "*b. Com base nos termos de menor IDF, será que podiamos propor stopwords novas?* \n",
    "\n",
    "*c. Com base nesses termos, existe algo que você poderia melhorar no processamento?*"
   ]
  },
  {
   "cell_type": "code",
   "execution_count": 1,
   "metadata": {},
   "outputs": [],
   "source": [
    "from query.relatorio import IDF\n",
    "idf = IDF()"
   ]
  },
  {
   "cell_type": "code",
   "execution_count": 2,
   "metadata": {},
   "outputs": [
    {
     "name": "stdout",
     "output_type": "stream",
     "text": [
      "Top 10 melhores idf:\n",
      "1: (15.908181492953341, '��\\u200f')\n",
      "2: (15.908181492953341, '�c�û�û‹o‹ì+ëra‹å‰.–�œ�˜�a�‰v¸�vuÿv�')\n",
      "3: (15.908181492953341, '�')\n",
      "4: (15.908181492953341, '￥88,54')\n",
      "5: (15.908181492953341, '￥360,00')\n",
      "6: (15.908181492953341, '￥297,26')\n",
      "7: (15.908181492953341, '￥236,79')\n",
      "8: (15.908181492953341, '￥225,82')\n",
      "9: (15.908181492953341, '￥144,15')\n",
      "10: (15.908181492953341, '￥122,78')\n",
      "\n",
      "Top 10 piores idf:\n",
      "1: (0.3827218577739812, 'categoria')\n",
      "2: (0.72435229724217, '1')\n",
      "3: (1.1240578969284016, '2')\n",
      "4: (1.209639594281652, 'mais')\n",
      "5: (1.2380785305304238, 'sao')\n",
      "6: (1.2529303022705065, 'tambem')\n",
      "7: (1.2690103900823149, 'area')\n",
      "8: (1.3032808358073913, 'à')\n",
      "9: (1.3132154709369814, 'habitantes')\n",
      "10: (1.333883630139953, '3')\n"
     ]
    }
   ],
   "source": [
    "idf.calculate_tops()\n",
    "idf.print_top_idf(10)"
   ]
  },
  {
   "attachments": {},
   "cell_type": "markdown",
   "metadata": {},
   "source": [
    "***Respostas:***\n",
    "\n",
    "Com base nos termos de menor IDF, será que podiamos propor stopwords novas?\n",
    "* Sim, poderiamos adicionar novas stopword, como \"sao\", \"mais\", \"à\".\n",
    "\n",
    "Com base nesses termos, existe algo que você poderia melhorar no processamento?\n",
    "* Sim, como caracteres especiais, números e unidades monetárias."
   ]
  },
  {
   "attachments": {},
   "cell_type": "markdown",
   "metadata": {},
   "source": [
    "```Questao 2.```\n",
    "\n",
    "*a. Apresente o gráfico de frequência das palavras. Tais palavras devem ser ordenadas decrescentemente de acordo com a sua frequência e devem ser todas representadas no eixo x. Note que a frequencia da palavra é a frequência total do termo na coleção (definido por F(termo) na aula sobre TF-IDF).*\n",
    "\n",
    "*b. De forma similar, faça o gráfico do IDF de cada palavra (veja o grafico similar na aula sobre TF-IDF). Mostra também, quais tipos de palavras (específicas? Erros de processamento?) possuem TF alto, mediano e baixo.*\n",
    "\n",
    "*c. Faça o mesmo para IDF. Note que esse grafico deve conter todas as palavras. Não é necessário apresentar todos os valores do eixo x (palavras), pois, ficaria difícil de visualizar.*"
   ]
  },
  {
   "attachments": {},
   "cell_type": "markdown",
   "metadata": {},
   "source": [
    "**Todas as palavras**"
   ]
  },
  {
   "cell_type": "code",
   "execution_count": 3,
   "metadata": {},
   "outputs": [
    {
     "name": "stdout",
     "output_type": "stream",
     "text": [
      "Indice lido com sucesso\n",
      "Precomputando valores atraves do indice...\n",
      "Precomputou valores done in 14.481551\n",
      "Cleaner instanciado com sucesso\n",
      "\n",
      "===========================================\n",
      "  Saindo...\n",
      "[(178643, '\\xad'), (160184, \"''\"), (139316, '``'), (136930, 'sao'), (133466, 'mais'), (113506, 'categoria'), (107578, 'nao'), (97124, 'à'), (84251, 'tambem'), (78731, '1')]\n"
     ]
    },
    {
     "data": {
      "image/png": "[encoded data removed]",
      "text/plain": [
       "<Figure size 640x480 with 1 Axes>"
      ]
     },
     "metadata": {},
     "output_type": "display_data"
    }
   ],
   "source": [
    "from query.processing import QueryRunner\n",
    "from query.relatorio import plot_terms_freq\n",
    "\n",
    "index, indexPreCom, cleaner, map_relevance = QueryRunner.main(True)\n",
    "print(indexPreCom.term_freq[:10])\n",
    "plot_terms_freq(indexPreCom.term_freq)"
   ]
  },
  {
   "attachments": {},
   "cell_type": "markdown",
   "metadata": {},
   "source": [
    "**Term Frequency (TF)**"
   ]
  },
  {
   "cell_type": "code",
   "execution_count": 1,
   "metadata": {},
   "outputs": [],
   "source": [
    "from query.relatorio import TF\n",
    "from query.relatorio import plot_terms_freq\n",
    "\n",
    "tf = TF()\n",
    "tf.calculate_tops()"
   ]
  },
  {
   "cell_type": "code",
   "execution_count": 5,
   "metadata": {},
   "outputs": [
    {
     "data": {
      "image/png": "[encoded data removed]",
      "text/plain": [
       "<Figure size 640x480 with 1 Axes>"
      ]
     },
     "metadata": {},
     "output_type": "display_data"
    }
   ],
   "source": [
    "plot_terms_freq(tf.term_freq_list)"
   ]
  },
  {
   "cell_type": "code",
   "execution_count": 4,
   "metadata": {},
   "outputs": [
    {
     "name": "stdout",
     "output_type": "stream",
     "text": [
      "Top 10 melhores idf:\n",
      "1: (18.446719858479547, '\\xad')\n",
      "2: (18.28937052559513, \"''\")\n",
      "3: (18.088001430833206, '``')\n",
      "4: (18.063079035785574, 'sao')\n",
      "5: (18.026112741602628, 'mais')\n",
      "6: (17.79240903575438, 'categoria')\n",
      "7: (17.715023547349332, 'nao')\n",
      "8: (17.567540218990334, 'à')\n",
      "9: (17.362406189719067, 'tambem')\n",
      "10: (17.264644182248635, '1')\n",
      "\n",
      "Top 10 piores idf:\n",
      "1: (1.0, \"'66\\xad'67\")\n",
      "2: (1.0, \"'87\\xad'93\")\n",
      "3: (1.0, \"'=\")\n",
      "4: (1.0, \"'=c.f\")\n",
      "5: (1.0, \"'=f'+g\")\n",
      "6: (1.0, \"'d\")\n",
      "7: (1.0, \"'patafisica\")\n",
      "8: (1.0, \"'t\")\n",
      "9: (1.0, '++gp')\n",
      "10: (1.0, '++max')\n"
     ]
    }
   ],
   "source": [
    "tf.print_top_tf(10)"
   ]
  },
  {
   "attachments": {},
   "cell_type": "markdown",
   "metadata": {},
   "source": [
    "Como tivemos um valor máximo de 18, teremos a mediana por volta dos 9, como mostrado a seguir:"
   ]
  },
  {
   "cell_type": "code",
   "execution_count": 2,
   "metadata": {},
   "outputs": [
    {
     "name": "stdout",
     "output_type": "stream",
     "text": [
      "Top 10 mid tf:\n",
      "1: (9.224001674198107, '1809')\n",
      "2: (9.224001674198107, 'ausente')\n",
      "3: (9.224001674198107, 'bank')\n",
      "4: (9.224001674198107, 'barreiro')\n",
      "5: (9.224001674198107, 'battle')\n",
      "6: (9.224001674198107, 'conforto')\n",
      "7: (9.224001674198107, 'consideracoes')\n",
      "8: (9.224001674198107, 'contratacao')\n",
      "9: (9.224001674198107, 'dino')\n",
      "10: (9.224001674198107, 'diversao')\n"
     ]
    }
   ],
   "source": [
    "tf.print_mid_tf(10)"
   ]
  },
  {
   "attachments": {},
   "cell_type": "markdown",
   "metadata": {},
   "source": [
    "**Inverse Document Frequency (IDF)**"
   ]
  },
  {
   "cell_type": "code",
   "execution_count": 1,
   "metadata": {},
   "outputs": [],
   "source": [
    "from query.relatorio import IDF\n",
    "from query.relatorio import plot_terms_freq\n",
    "\n",
    "idf = IDF()\n",
    "idf.calculate_tops()"
   ]
  },
  {
   "cell_type": "code",
   "execution_count": 9,
   "metadata": {},
   "outputs": [
    {
     "data": {
      "image/png": "[encoded data removed]",
      "text/plain": [
       "<Figure size 640x480 with 1 Axes>"
      ]
     },
     "metadata": {},
     "output_type": "display_data"
    }
   ],
   "source": [
    "plot_terms_freq(idf.term_freq_list)"
   ]
  },
  {
   "cell_type": "code",
   "execution_count": 10,
   "metadata": {},
   "outputs": [
    {
     "name": "stdout",
     "output_type": "stream",
     "text": [
      "Top 10 melhores idf:\n",
      "1: (15.908181492953341, '��\\u200f')\n",
      "2: (15.908181492953341, '�c�û�û‹o‹ì+ëra‹å‰.–�œ�˜�a�‰v¸�vuÿv�')\n",
      "3: (15.908181492953341, '�')\n",
      "4: (15.908181492953341, '￥88,54')\n",
      "5: (15.908181492953341, '￥360,00')\n",
      "6: (15.908181492953341, '￥297,26')\n",
      "7: (15.908181492953341, '￥236,79')\n",
      "8: (15.908181492953341, '￥225,82')\n",
      "9: (15.908181492953341, '￥144,15')\n",
      "10: (15.908181492953341, '￥122,78')\n",
      "\n",
      "Top 10 piores idf:\n",
      "1: (0.3827218577739812, 'categoria')\n",
      "2: (0.72435229724217, '1')\n",
      "3: (1.1240578969284016, '2')\n",
      "4: (1.209639594281652, 'mais')\n",
      "5: (1.2380785305304238, 'sao')\n",
      "6: (1.2529303022705065, 'tambem')\n",
      "7: (1.2690103900823149, 'area')\n",
      "8: (1.3032808358073913, 'à')\n",
      "9: (1.3132154709369814, 'habitantes')\n",
      "10: (1.333883630139953, '3')\n"
     ]
    }
   ],
   "source": [
    "idf.print_top_idf(10)"
   ]
  },
  {
   "attachments": {},
   "cell_type": "markdown",
   "metadata": {},
   "source": [
    "Como tivemos um valor máximo por volta dos 16, teremos a mediana por volta dos 8, como mostrado a seguir:"
   ]
  },
  {
   "cell_type": "code",
   "execution_count": 2,
   "metadata": {},
   "outputs": [
    {
     "name": "stdout",
     "output_type": "stream",
     "text": [
      "Top 10 mid idf:\n",
      "1: (7.959814261368665, 'adams')\n",
      "2: (7.959814261368665, 'apartamentos')\n",
      "3: (7.959814261368665, 'aranha')\n",
      "4: (7.959814261368665, 'billboard')\n",
      "5: (7.959814261368665, 'cavernas')\n",
      "6: (7.959814261368665, 'cavidade')\n",
      "7: (7.959814261368665, 'croacia')\n",
      "8: (7.959814261368665, 'dobro')\n",
      "9: (7.959814261368665, 'embriao')\n",
      "10: (7.959814261368665, 'family')\n"
     ]
    }
   ],
   "source": [
    "idf.print_mid_idf(10)"
   ]
  },
  {
   "attachments": {},
   "cell_type": "markdown",
   "metadata": {},
   "source": [
    "```Questao 3.```\n",
    "\n",
    "*Faça algumas consultas exemplos, mostrando o tempo de execução e o número de documentos retornados para cada consulta para cada modelo implementado.*"
   ]
  },
  {
   "attachments": {},
   "cell_type": "markdown",
   "metadata": {},
   "source": [
    "```Questao 4.```\n",
    "\n",
    "*Apresentação e discussão dos gráficos de avaliação (precisão e revocação @5, @10, @25, @50 revocação @5, @10, @25, @50) do modelo vetorial*"
   ]
  }
 ],
 "metadata": {
  "kernelspec": {
   "display_name": "Python 3",
   "language": "python",
   "name": "python3"
  },
  "language_info": {
   "codemirror_mode": {
    "name": "ipython",
    "version": 3
   },
   "file_extension": ".py",
   "mimetype": "text/x-python",
   "name": "python",
   "nbconvert_exporter": "python",
   "pygments_lexer": "ipython3",
   "version": "3.11.2"
  },
  "orig_nbformat": 4
 },
 "nbformat": 4,
 "nbformat_minor": 2
}
